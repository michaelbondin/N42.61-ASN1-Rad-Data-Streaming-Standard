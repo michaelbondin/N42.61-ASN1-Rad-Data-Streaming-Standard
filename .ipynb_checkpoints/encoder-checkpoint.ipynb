{
 "cells": [
  {
   "cell_type": "markdown",
   "id": "872de6c7",
   "metadata": {},
   "source": [
    "#### Notes:\n",
    "1. Python ASN.1 tools library does not yet support parameterization, meaning DATE-TIME-FRACTIONAL isn't accepted. Test examples without it for now.\n",
    "2. Schema is compiled from file, but message to be encoded currently must be input as a python dict."
   ]
  },
  {
   "cell_type": "code",
   "execution_count": 19,
   "id": "0f4abad3",
   "metadata": {},
   "outputs": [],
   "source": [
    "import numpy as np\n",
    "from datetime import datetime\n",
    "import asn1tools\n",
    "import asn1\n",
    "import pyasn1\n",
    "#import asn1vnparser"
   ]
  },
  {
   "cell_type": "markdown",
   "id": "f88c4bf8",
   "metadata": {},
   "source": [
    "## Compile schema from file"
   ]
  },
  {
   "cell_type": "code",
   "execution_count": 20,
   "id": "318e6b42",
   "metadata": {},
   "outputs": [],
   "source": [
    "schema_path = '/Users/michaelbondin/ASN1-Rad-Data-Streaming-Standard/standard_schema_complete_without_date-time-fractional.asn'\n",
    "encoding_rule = 'der'\n",
    "spec = asn1tools.compile_files(schema_path, encoding_rule)"
   ]
  },
  {
   "cell_type": "markdown",
   "id": "122a7930",
   "metadata": {},
   "source": [
    "## Provide message as python dict"
   ]
  },
  {
   "cell_type": "markdown",
   "id": "d385687f",
   "metadata": {},
   "source": [
    "#### Example Gross Gamma Counts Radiation Data Packet"
   ]
  },
  {
   "cell_type": "code",
   "execution_count": 21,
   "id": "dec4811b",
   "metadata": {},
   "outputs": [
    {
     "data": {
      "text/plain": [
       "{'radiationDataPacketNumber': 3,\n",
       " 'timeInformationRadiationData': {'relativeTime': 3010,\n",
       "  'accumulationTime': 2000},\n",
       " 'detectorsListRadiationData': [{'detectorID': 0,\n",
       "   'counts': 6489,\n",
       "   'derivedData': {'countRate': 3244.5,\n",
       "    'exposure': 40.056,\n",
       "    'exposureRate': 72100.0,\n",
       "    'alarm1': True,\n",
       "    'deadTime': 10.0,\n",
       "    'liveTime': 1800.0}}],\n",
       " 'endRadiationDataPacket': 1110010}"
      ]
     },
     "execution_count": 21,
     "metadata": {},
     "output_type": "execute_result"
    }
   ],
   "source": [
    "message = {\n",
    "    'radiationDataPacketNumber'    : 3,\n",
    "    'timeInformationRadiationData' : {'relativeTime'     : 3010,\n",
    "                                      'accumulationTime' : 2000},\n",
    "    'detectorsListRadiationData'   : [{'detectorID'  : 0,\n",
    "                                       'counts'      : 6489,\n",
    "                                       'derivedData' : {'countRate'    : 3244.5,\n",
    "                                                        'exposure'     : 40.056,\n",
    "                                                        'exposureRate' : 72100.0,\n",
    "                                                        'alarm1'       : True,\n",
    "                                                        'deadTime'     : 10.0,\n",
    "                                                        'liveTime'     : 1800.0}\n",
    "                                       }],\n",
    "    'endRadiationDataPacket'       : 1110010\n",
    "}\n",
    "\n",
    "message"
   ]
  },
  {
   "cell_type": "markdown",
   "id": "476a1723",
   "metadata": {},
   "source": [
    "#### Example Gross Gamma Counts Instrument Status Packet"
   ]
  },
  {
   "cell_type": "code",
   "execution_count": 22,
   "id": "41458e39",
   "metadata": {},
   "outputs": [
    {
     "data": {
      "text/plain": [
       "{'instrumentStatusPacketNumber': 2,\n",
       " 'timeInformationInstrumentStatus': {'relativeTime': 1005,\n",
       "  'timeStamp': datetime.datetime(2023, 3, 20, 15, 23, 27)},\n",
       " 'instrumentStatusInformation': {'instrumentTemperature': 23,\n",
       "  'instrumentPower': ('instrumentBatteryRemainingCharge', 70),\n",
       "  'instrumentHealth': True},\n",
       " 'detectorsListInformationStatus': [{'detectorID': 0,\n",
       "   'detectorVoltage': -1290,\n",
       "   'detectorTemperature': 34}],\n",
       " 'endInstrumentStatusPacket': 1111000}"
      ]
     },
     "execution_count": 22,
     "metadata": {},
     "output_type": "execute_result"
    }
   ],
   "source": [
    "from datetime import datetime\n",
    "\n",
    "message = {\n",
    "    'instrumentStatusPacketNumber'     : 2,\n",
    "    'timeInformationInstrumentStatus'  : {'relativeTime'     : 1005,\n",
    "                                         'timeStamp'        : datetime.fromisoformat('2023-03-20T15:23:27')},\n",
    "    'instrumentStatusInformation'      : {'instrumentTemperature' : 23,\n",
    "                                         'instrumentPower'       : ('instrumentBatteryRemainingCharge', 70),\n",
    "                                         'instrumentHealth'      : True},\n",
    "    'detectorsListInformationStatus'   : [{'detectorID'          : 0,\n",
    "                                           'detectorVoltage'     : -1290,\n",
    "                                           'detectorTemperature' : 34\n",
    "                                          }],\n",
    "    'endInstrumentStatusPacket'       : 1111000\n",
    "}\n",
    "\n",
    "message"
   ]
  },
  {
   "cell_type": "markdown",
   "id": "5c0e0040",
   "metadata": {},
   "source": [
    "#### Example Gross Gamma-Neutron Counts Header Packet"
   ]
  },
  {
   "cell_type": "code",
   "execution_count": 75,
   "id": "6e533d7b",
   "metadata": {},
   "outputs": [
    {
     "data": {
      "text/plain": [
       "{'timeInformationHeader': {'timeStampZero': datetime.datetime(2023, 3, 20, 15, 23, 27),\n",
       "  'radiationDataPacketTransmissionRate': 2.0},\n",
       " 'instrumentInformationHeader': {'instrumentName': 'GN1',\n",
       "  'instrumentDescription': 'Sample Gross Gamma Counts Detector',\n",
       "  'instrumentManufacturer': 'IEEE',\n",
       "  'instrumentModel': 'Basic Gamma-Neutron Instrument 1.00',\n",
       "  'numberOfDetectors': 2,\n",
       "  'instrumentSerialNumber': 'AAA-0001'},\n",
       " 'detectorsListHeader': [{'detectorID': 0,\n",
       "   'detectorType': 'grossGamma',\n",
       "   'detectorKind': 'naI',\n",
       "   'detectorManufacturer': 'IEEE',\n",
       "   'detectorModel': 'Basic Gamma 1.00',\n",
       "   'exposureCoeff': 7.5,\n",
       "   'backgroundSubtraction': True,\n",
       "   'numberOfMCAChannels': 1,\n",
       "   'calibration': {'calibrationTime': datetime.datetime(2023, 3, 20, 9, 23, 27)}},\n",
       "  {'detectorID': 1,\n",
       "   'detectorType': 'grossNeutron',\n",
       "   'detectorKind': 'he3',\n",
       "   'detectorDescription': 'Sample Gross Neutron Counts Detector',\n",
       "   'detectorManufacturer': 'IEEE',\n",
       "   'detectorModel': 'Basic Gamma 1.00',\n",
       "   'detectorSerialNumber': 'N-00000001',\n",
       "   'doseConversionCoeff': 20,\n",
       "   'numberOfMCAChannels': 1}]}"
      ]
     },
     "execution_count": 75,
     "metadata": {},
     "output_type": "execute_result"
    }
   ],
   "source": [
    "message = {\n",
    "    'timeInformationHeader'       : \n",
    "        {\n",
    "         'timeStampZero'                       : datetime.fromisoformat('2023-03-20T15:23:27'),\n",
    "         'radiationDataPacketTransmissionRate' : 2.0\n",
    "        },\n",
    "    'instrumentInformationHeader' : \n",
    "        {\n",
    "        'instrumentName'         : \"GN1\",\n",
    "        'instrumentDescription'  : 'Sample Gross Gamma Counts Detector',\n",
    "        'instrumentManufacturer' : 'IEEE',\n",
    "        'instrumentModel'        : 'Basic Gamma-Neutron Instrument 1.00',\n",
    "        'numberOfDetectors'      : 2,\n",
    "        'instrumentSerialNumber' : 'AAA-0001'\n",
    "        },\n",
    "    'detectorsListHeader' :\n",
    "        [\n",
    "            {\n",
    "            'detectorID'            : 0,\n",
    "            'detectorType'          : 'grossGamma',\n",
    "            'detectorKind'          : 'naI',\n",
    "            'detectorManufacturer'  : 'IEEE',\n",
    "            'detectorModel'         : 'Basic Gamma 1.00',\n",
    "            'exposureCoeff'         : 7.5,\n",
    "            'backgroundSubtraction' : True,\n",
    "            'numberOfMCAChannels'   : 1,\n",
    "            'calibration' :\n",
    "                {\n",
    "                'calibrationTime' : datetime.fromisoformat('2023-03-20T09:23:27'),\n",
    "                }\n",
    "            },\n",
    "            {\n",
    "            'detectorID'           : 1,\n",
    "            'detectorType'         : 'grossNeutron',\n",
    "            'detectorKind'         : 'he3',\n",
    "            'detectorDescription'  : 'Sample Gross Neutron Counts Detector',\n",
    "            'detectorManufacturer' : 'IEEE',\n",
    "            'detectorModel'        : 'Basic Gamma 1.00',\n",
    "            'detectorSerialNumber' : 'N-00000001',\n",
    "            'doseConversionCoeff'  : 20,\n",
    "            'numberOfMCAChannels'   : 1,\n",
    "            },\n",
    "        ],\n",
    "#     'endHeaderPacket' : 10010\n",
    "}\n",
    "\n",
    "message"
   ]
  },
  {
   "cell_type": "code",
   "execution_count": 76,
   "id": "408cd5e3",
   "metadata": {},
   "outputs": [],
   "source": [
    "encoded = spec.encode('Header', message)"
   ]
  },
  {
   "cell_type": "code",
   "execution_count": 6,
   "id": "0751c5e2",
   "metadata": {},
   "outputs": [],
   "source": [
    "encoded = spec.encode('InstrumentStatus', message)"
   ]
  },
  {
   "cell_type": "code",
   "execution_count": 75,
   "id": "26ea0ddf",
   "metadata": {
    "scrolled": false
   },
   "outputs": [],
   "source": [
    "encoded = spec.encode('RadiationData', message)"
   ]
  },
  {
   "cell_type": "code",
   "execution_count": 77,
   "id": "f42d44b2",
   "metadata": {},
   "outputs": [
    {
     "name": "stdout",
     "output_type": "stream",
     "text": [
      "bytearray(b'0\\x82\\x01\\x1a\\xa0\\x15\\x80\\x0e20230320152327\\x81\\x03\\x80\\x01\\x01\\xa1a\\x80\\x03GN1\\x81\"Sample Gross Gamma Counts Detector\\x82\\x04IEEE\\x83#Basic Gamma-Neutron Instrument 1.00\\x84\\x08AAA-0001\\x89\\x01\\x02\\xa2\\x81\\x9d0>\\x80\\x01\\x00\\x81\\x01\\x00\\x82\\x01\\x02\\x84\\x04IEEE\\x85\\x10Basic Gamma 1.00\\x8b\\x03\\x80\\xff\\x0f\\x8e\\x01\\xff\\x8f\\x01\\x01\\xb0\\x10\\x83\\x0e202303200923270[\\x80\\x01\\x01\\x81\\x01\\x01\\x82\\x01\\x0e\\x83$Sample Gross Neutron Counts Detector\\x84\\x04IEEE\\x85\\x10Basic Gamma 1.00\\x86\\nN-00000001\\x8c\\x03\\x80\\x02\\x05\\x8f\\x01\\x01')\n"
     ]
    }
   ],
   "source": [
    "print(encoded)"
   ]
  },
  {
   "cell_type": "code",
   "execution_count": 78,
   "id": "750de342",
   "metadata": {
    "scrolled": true
   },
   "outputs": [
    {
     "data": {
      "text/plain": [
       "'110000100000100000000100011010101000000001010110000000000011100011001000110000001100100011001100110000001100110011001000110000001100010011010100110010001100110011001000110111100000010000001110000000000000010000000110100001011000011000000000000011010001110100111000110001100000010010001001010011011000010110110101110000011011000110010100100000010001110111001001101111011100110111001100100000010001110110000101101101011011010110000100100000010000110110111101110101011011100111010001110011001000000100010001100101011101000110010101100011011101000110111101110010100000100000010001001001010001010100010101000101100000110010001101000010011000010111001101101001011000110010000001000111011000010110110101101101011000010010110101001110011001010111010101110100011100100110111101101110001000000100100101101110011100110111010001110010011101010110110101100101011011100111010000100000001100010010111000110000001100001000010000001000010000010100000101000001001011010011000000110000001100000011000110001001000000010000001010100010100000011001110100110000001111101000000000000001000000001000000100000001000000001000001000000001000000101000010000000100010010010100010101000101010001011000010100010000010000100110000101110011011010010110001100100000010001110110000101101101011011010110000100100000001100010010111000110000001100001000101100000011100000001111111100001111100011100000000111111111100011110000000100000001101100000001000010000011000011100011001000110000001100100011001100110000001100110011001000110000001100000011100100110010001100110011001000110111001100000101101110000000000000010000000110000001000000010000000110000010000000010000111010000011001001000101001101100001011011010111000001101100011001010010000001000111011100100110111101110011011100110010000001001110011001010111010101110100011100100110111101101110001000000100001101101111011101010110111001110100011100110010000001000100011001010111010001100101011000110111010001101111011100101000010000000100010010010100010101000101010001011000010100010000010000100110000101110011011010010110001100100000010001110110000101101101011011010110000100100000001100010010111000110000001100001000011000001010010011100010110100110000001100000011000000110000001100000011000000110000001100011000110000000011100000000000001000000101100011110000000100000001'"
      ]
     },
     "execution_count": 78,
     "metadata": {},
     "output_type": "execute_result"
    }
   ],
   "source": [
    "bin(int.from_bytes(encoded, byteorder=\"big\")).strip('0b')"
   ]
  },
  {
   "cell_type": "code",
   "execution_count": 79,
   "id": "e0b97672",
   "metadata": {
    "scrolled": true
   },
   "outputs": [
    {
     "name": "stdout",
     "output_type": "stream",
     "text": [
      "Length of encoded message: 286 bytes\n"
     ]
    }
   ],
   "source": [
    "print(\"Length of encoded message:\", len(encoded), \"bytes\")"
   ]
  },
  {
   "cell_type": "code",
   "execution_count": 80,
   "id": "29b74924",
   "metadata": {},
   "outputs": [
    {
     "data": {
      "text/plain": [
       "'00010010'"
      ]
     },
     "execution_count": 80,
     "metadata": {},
     "output_type": "execute_result"
    }
   ],
   "source": [
    "bin(sum(encoded))[-8:]"
   ]
  },
  {
   "cell_type": "code",
   "execution_count": null,
   "id": "4da27d0a",
   "metadata": {},
   "outputs": [],
   "source": []
  }
 ],
 "metadata": {
  "kernelspec": {
   "display_name": "Python 3 (ipykernel)",
   "language": "python",
   "name": "python3"
  },
  "language_info": {
   "codemirror_mode": {
    "name": "ipython",
    "version": 3
   },
   "file_extension": ".py",
   "mimetype": "text/x-python",
   "name": "python",
   "nbconvert_exporter": "python",
   "pygments_lexer": "ipython3",
   "version": "3.9.7"
  }
 },
 "nbformat": 4,
 "nbformat_minor": 5
}
