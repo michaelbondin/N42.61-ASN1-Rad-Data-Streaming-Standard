{
 "cells": [
  {
   "cell_type": "code",
   "execution_count": 73,
   "id": "0f4abad3",
   "metadata": {},
   "outputs": [],
   "source": [
    "import asn1tools\n",
    "import numpy as np\n",
    "from datetime import datetime\n",
    "\n",
    "import asn1\n",
    "import pyasn1\n",
    "#import asn1vnparser"
   ]
  },
  {
   "cell_type": "code",
   "execution_count": 74,
   "id": "69e81210",
   "metadata": {},
   "outputs": [],
   "source": [
    "encoder = asn1.Encoder()\n",
    "encoder.start()\n",
    "encoder.write('1.2.3', asn1.Numbers.ObjectIdentifier)\n",
    "encoded_bytes = encoder.output()"
   ]
  },
  {
   "cell_type": "code",
   "execution_count": 75,
   "id": "d9ccbde1",
   "metadata": {
    "scrolled": true
   },
   "outputs": [
    {
     "data": {
      "text/plain": [
       "{'radiationDataPacketNumber': 1,\n",
       " 'timeInformationRadiationData': {'relativeTime': 2100,\n",
       "  'accumulationTime': 2000},\n",
       " 'detectorsListRadiationData': [{'detectorID': 0,\n",
       "   'counts': 1500,\n",
       "   'derivedData': {'countRate': 750.0, 'exposureRate': 7.5}}]}"
      ]
     },
     "execution_count": 75,
     "metadata": {},
     "output_type": "execute_result"
    }
   ],
   "source": [
    "message = {\n",
    "    'radiationDataPacketNumber'    : 1,\n",
    "    'timeInformationRadiationData' : {'relativeTime'     : 2100,\n",
    "                                      'accumulationTime' : 2000},\n",
    "    'detectorsListRadiationData'   : [{'detectorID'  : 0,\n",
    "                                       'counts'      : 1500,\n",
    "                                       'derivedData' : {'countRate' : 750.0,\n",
    "                                                        'exposureRate' : 7.5}\n",
    "                                       }]                                     \n",
    "}\n",
    "\n",
    "message"
   ]
  },
  {
   "cell_type": "code",
   "execution_count": 76,
   "id": "8d32532a",
   "metadata": {},
   "outputs": [],
   "source": [
    "# message = open('/Users/michaelbondin/ASN1-Rad-Data-Streaming-Standard/gross_gamma_detector/example_gross_gamma_raddata.asn', 'rb').read()\n",
    "#message"
   ]
  },
  {
   "cell_type": "code",
   "execution_count": 78,
   "id": "318e6b42",
   "metadata": {},
   "outputs": [],
   "source": [
    "schema_path = '/Users/michaelbondin/ASN1-Rad-Data-Streaming-Standard/standard_schema_complete_without_date-time-fractional.asn'\n",
    "encoding_rule = 'der'\n",
    "spec = asn1tools.compile_files(schema_path, encoding_rule)"
   ]
  },
  {
   "cell_type": "code",
   "execution_count": 79,
   "id": "26ea0ddf",
   "metadata": {
    "scrolled": false
   },
   "outputs": [],
   "source": [
    "encoded = spec.encode('RadiationData', message)"
   ]
  },
  {
   "cell_type": "code",
   "execution_count": 84,
   "id": "4fb1d136",
   "metadata": {},
   "outputs": [
    {
     "name": "stdout",
     "output_type": "stream",
     "text": [
      "bytearray(b'0%\\x80\\x01\\x01\\xa1\\x08\\x80\\x02\\x084\\x81\\x02\\x07\\xd0\\xa2\\x160\\x14\\x80\\x01\\x00\\x81\\x02\\x05\\xdc\\xa3\\x0b\\x80\\x04\\x80\\x01\\x01w\\x82\\x03\\x80\\xff\\x0f')\n"
     ]
    }
   ],
   "source": [
    "print(encoded)"
   ]
  },
  {
   "cell_type": "code",
   "execution_count": 85,
   "id": "750de342",
   "metadata": {
    "scrolled": true
   },
   "outputs": [
    {
     "data": {
      "text/plain": [
       "'1100000010010110000000000000010000000110100001000010001000000000000010000010000011010010000001000000100000011111010000101000100001011000110000000101001000000000000001000000001000000100000010000001011101110010100011000010111000000000000100100000000000000100000001011101111000001000000011100000001111111100001111'"
      ]
     },
     "execution_count": 85,
     "metadata": {},
     "output_type": "execute_result"
    }
   ],
   "source": [
    "bin(int.from_bytes(encoded, byteorder=\"big\")).strip('0b')"
   ]
  },
  {
   "cell_type": "code",
   "execution_count": 86,
   "id": "e0b97672",
   "metadata": {
    "scrolled": true
   },
   "outputs": [
    {
     "name": "stdout",
     "output_type": "stream",
     "text": [
      "Length of encoded message: 39 bytes\n"
     ]
    }
   ],
   "source": [
    "print(\"Length of encoded message:\", len(encoded), \"bytes\")"
   ]
  }
 ],
 "metadata": {
  "kernelspec": {
   "display_name": "Python 3 (ipykernel)",
   "language": "python",
   "name": "python3"
  },
  "language_info": {
   "codemirror_mode": {
    "name": "ipython",
    "version": 3
   },
   "file_extension": ".py",
   "mimetype": "text/x-python",
   "name": "python",
   "nbconvert_exporter": "python",
   "pygments_lexer": "ipython3",
   "version": "3.9.7"
  }
 },
 "nbformat": 4,
 "nbformat_minor": 5
}
