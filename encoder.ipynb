{
 "cells": [
  {
   "cell_type": "markdown",
   "id": "872de6c7",
   "metadata": {},
   "source": [
    "#### Notes:\n",
    "1. Python ASN.1 tools library does not yet support parameterization, meaning DATE-TIME-FRACTIONAL isn't accepted. Test examples without it for now.\n",
    "2. Schema is compiled from file, but message to be encoded currently must be input as a python dict."
   ]
  },
  {
   "cell_type": "code",
   "execution_count": 1,
   "id": "0f4abad3",
   "metadata": {},
   "outputs": [],
   "source": [
    "import numpy as np\n",
    "from datetime import datetime\n",
    "import asn1tools\n",
    "import asn1\n",
    "import pyasn1\n",
    "#import asn1vnparser"
   ]
  },
  {
   "cell_type": "markdown",
   "id": "f88c4bf8",
   "metadata": {},
   "source": [
    "## Compile schema from file"
   ]
  },
  {
   "cell_type": "code",
   "execution_count": 2,
   "id": "318e6b42",
   "metadata": {},
   "outputs": [],
   "source": [
    "schema_path = '/Users/michaelbondin/ASN1-Rad-Data-Streaming-Standard/standard_schema_complete_without_date-time-fractional.asn'\n",
    "encoding_rule = 'der'\n",
    "spec = asn1tools.compile_files(schema_path, encoding_rule)"
   ]
  },
  {
   "cell_type": "markdown",
   "id": "122a7930",
   "metadata": {},
   "source": [
    "## Provide message as python dict"
   ]
  },
  {
   "cell_type": "markdown",
   "id": "3e0ba26f",
   "metadata": {},
   "source": [
    "#### Example Gross Gamma Counts Radiation Data Packet"
   ]
  },
  {
   "cell_type": "code",
   "execution_count": 31,
   "id": "dec4811b",
   "metadata": {},
   "outputs": [
    {
     "data": {
      "text/plain": [
       "{'radiationDataPacketNumber': 3,\n",
       " 'timeInformationRadiationData': {'relativeTime': 3010,\n",
       "  'accumulationTime': 2000},\n",
       " 'detectorsListRadiationData': [{'detectorID': 0,\n",
       "   'counts': 6489,\n",
       "   'derivedData': {'countRate': 3244.5,\n",
       "    'exposure': 20.028,\n",
       "    'exposureRate': 72100.0,\n",
       "    'alarm1': True,\n",
       "    'deadTime': 10.0,\n",
       "    'liveTime': 900.0}}],\n",
       " 'endRadiationDataPacket': 1110000}"
      ]
     },
     "execution_count": 31,
     "metadata": {},
     "output_type": "execute_result"
    }
   ],
   "source": [
    "message = {\n",
    "    'radiationDataPacketNumber'    : 3,\n",
    "    'timeInformationRadiationData' : {'relativeTime'     : 3010,\n",
    "                                      'accumulationTime' : 2000},\n",
    "    'detectorsListRadiationData'   : [{'detectorID'  : 0,\n",
    "                                       'counts'      : 6489,\n",
    "                                       'derivedData' : {'countRate'    : 3244.5,\n",
    "                                                        'exposure'     : 20.028,\n",
    "                                                        'exposureRate' : 72100.0,\n",
    "                                                        'alarm1'       : True,\n",
    "                                                        'deadTime'     : 10.0,\n",
    "                                                        'liveTime'     : 900.0}\n",
    "                                       }],\n",
    "    'endRadiationDataPacket'       : 1110000\n",
    "}\n",
    "\n",
    "message"
   ]
  },
  {
   "cell_type": "code",
   "execution_count": 54,
   "id": "d2059cb0",
   "metadata": {},
   "outputs": [
    {
     "data": {
      "text/plain": [
       "{'instrumentStatusPacketNumber': 2,\n",
       " 'timeInformationInstrumentStatus': {'relativeTime': 1005,\n",
       "  'timeStamp': datetime.datetime(2023, 3, 20, 15, 23, 27)},\n",
       " 'instrumentStatusInformation': {'instrumentTemperature': 23,\n",
       "  'instrumentPower': ('instrumentBatteryRemainingCharge', 70),\n",
       "  'instrumentHealth': True},\n",
       " 'detectorsListInformationStatus': [{'detectorID': 0,\n",
       "   'detectorVoltage': -1290,\n",
       "   'detectorTemperature': 34}],\n",
       " 'endInstrumentStatusPacket': 1111000}"
      ]
     },
     "execution_count": 54,
     "metadata": {},
     "output_type": "execute_result"
    }
   ],
   "source": [
    "from datetime import datetime\n",
    "\n",
    "message = {\n",
    "    'instrumentStatusPacketNumber'     : 2,\n",
    "    'timeInformationInstrumentStatus'  : {'relativeTime'     : 1005,\n",
    "                                         'timeStamp'        : datetime.fromisoformat('2023-03-20T15:23:27')},\n",
    "    'instrumentStatusInformation'      : {'instrumentTemperature' : 23,\n",
    "                                         'instrumentPower'       : ('instrumentBatteryRemainingCharge', 70),\n",
    "                                         'instrumentHealth'      : True},\n",
    "    'detectorsListInformationStatus'   : [{'detectorID'          : 0,\n",
    "                                           'detectorVoltage'     : -1290,\n",
    "                                           'detectorTemperature' : 34\n",
    "                                          }],\n",
    "    'endInstrumentStatusPacket'       : 1111000\n",
    "}\n",
    "\n",
    "message"
   ]
  },
  {
   "cell_type": "code",
   "execution_count": 55,
   "id": "af7d4e11",
   "metadata": {},
   "outputs": [],
   "source": [
    "encoded = spec.encode('InstrumentStatus', message)"
   ]
  },
  {
   "cell_type": "code",
   "execution_count": 40,
   "id": "26ea0ddf",
   "metadata": {
    "scrolled": false
   },
   "outputs": [
    {
     "ename": "EncodeError",
     "evalue": "RadiationData: Sequence member 'timeInformationRadiationData' not found in {'instrumentStatusPacketNumber': 2, 'timeInformationInstrumentStatus': {'relativeTime': 1005, 'timeStamp': datetime.datetime(2023, 3, 20, 15, 23, 27)}, 'instrumentStatusInformation': {'instrumentTemperature': 23, 'instrumentPower': ('instrumentBatteryRemainingCharge', 70), 'instrumentHealth': True}, 'detectorsListInformationStatus': [{'detectorID': 0, 'detectorVoltage': -1290, 'detectorTemperature': 34}], 'endInstrumentStatusPacket': 1110000}.",
     "output_type": "error",
     "traceback": [
      "\u001b[0;31m---------------------------------------------------------------------------\u001b[0m",
      "\u001b[0;31mEncodeError\u001b[0m                               Traceback (most recent call last)",
      "\u001b[0;32m/var/folders/v2/6x0c01yj52j10j76tgf1cyn00000gn/T/ipykernel_89603/2265517040.py\u001b[0m in \u001b[0;36m<module>\u001b[0;34m\u001b[0m\n\u001b[0;32m----> 1\u001b[0;31m \u001b[0mencoded\u001b[0m \u001b[0;34m=\u001b[0m \u001b[0mspec\u001b[0m\u001b[0;34m.\u001b[0m\u001b[0mencode\u001b[0m\u001b[0;34m(\u001b[0m\u001b[0;34m'RadiationData'\u001b[0m\u001b[0;34m,\u001b[0m \u001b[0mmessage\u001b[0m\u001b[0;34m)\u001b[0m\u001b[0;34m\u001b[0m\u001b[0;34m\u001b[0m\u001b[0m\n\u001b[0m",
      "\u001b[0;32m/opt/homebrew/anaconda3/lib/python3.9/site-packages/asn1tools/compiler.py\u001b[0m in \u001b[0;36mencode\u001b[0;34m(self, name, data, check_types, check_constraints, **kwargs)\u001b[0m\n\u001b[1;32m    136\u001b[0m             \u001b[0mtype_\u001b[0m\u001b[0;34m.\u001b[0m\u001b[0mcheck_constraints\u001b[0m\u001b[0;34m(\u001b[0m\u001b[0mdata\u001b[0m\u001b[0;34m)\u001b[0m\u001b[0;34m\u001b[0m\u001b[0;34m\u001b[0m\u001b[0m\n\u001b[1;32m    137\u001b[0m \u001b[0;34m\u001b[0m\u001b[0m\n\u001b[0;32m--> 138\u001b[0;31m         \u001b[0;32mreturn\u001b[0m \u001b[0mtype_\u001b[0m\u001b[0;34m.\u001b[0m\u001b[0mencode\u001b[0m\u001b[0;34m(\u001b[0m\u001b[0mdata\u001b[0m\u001b[0;34m,\u001b[0m \u001b[0;34m**\u001b[0m\u001b[0mkwargs\u001b[0m\u001b[0;34m)\u001b[0m\u001b[0;34m\u001b[0m\u001b[0;34m\u001b[0m\u001b[0m\n\u001b[0m\u001b[1;32m    139\u001b[0m \u001b[0;34m\u001b[0m\u001b[0m\n\u001b[1;32m    140\u001b[0m     \u001b[0;32mdef\u001b[0m \u001b[0mdecode\u001b[0m\u001b[0;34m(\u001b[0m\u001b[0mself\u001b[0m\u001b[0;34m,\u001b[0m \u001b[0mname\u001b[0m\u001b[0;34m,\u001b[0m \u001b[0mdata\u001b[0m\u001b[0;34m,\u001b[0m \u001b[0mcheck_constraints\u001b[0m\u001b[0;34m=\u001b[0m\u001b[0;32mFalse\u001b[0m\u001b[0;34m)\u001b[0m\u001b[0;34m:\u001b[0m\u001b[0;34m\u001b[0m\u001b[0;34m\u001b[0m\u001b[0m\n",
      "\u001b[0;32m/opt/homebrew/anaconda3/lib/python3.9/site-packages/asn1tools/codecs/ber.py\u001b[0m in \u001b[0;36mencode\u001b[0;34m(self, data)\u001b[0m\n\u001b[1;32m   1468\u001b[0m     \u001b[0;32mdef\u001b[0m \u001b[0mencode\u001b[0m\u001b[0;34m(\u001b[0m\u001b[0mself\u001b[0m\u001b[0;34m,\u001b[0m \u001b[0mdata\u001b[0m\u001b[0;34m)\u001b[0m\u001b[0;34m:\u001b[0m\u001b[0;34m\u001b[0m\u001b[0;34m\u001b[0m\u001b[0m\n\u001b[1;32m   1469\u001b[0m         \u001b[0mencoded\u001b[0m \u001b[0;34m=\u001b[0m \u001b[0mbytearray\u001b[0m\u001b[0;34m(\u001b[0m\u001b[0;34m)\u001b[0m\u001b[0;34m\u001b[0m\u001b[0;34m\u001b[0m\u001b[0m\n\u001b[0;32m-> 1470\u001b[0;31m         \u001b[0mself\u001b[0m\u001b[0;34m.\u001b[0m\u001b[0m_type\u001b[0m\u001b[0;34m.\u001b[0m\u001b[0mencode\u001b[0m\u001b[0;34m(\u001b[0m\u001b[0mdata\u001b[0m\u001b[0;34m,\u001b[0m \u001b[0mencoded\u001b[0m\u001b[0;34m)\u001b[0m\u001b[0;34m\u001b[0m\u001b[0;34m\u001b[0m\u001b[0m\n\u001b[0m\u001b[1;32m   1471\u001b[0m \u001b[0;34m\u001b[0m\u001b[0m\n\u001b[1;32m   1472\u001b[0m         \u001b[0;32mreturn\u001b[0m \u001b[0mencoded\u001b[0m\u001b[0;34m\u001b[0m\u001b[0;34m\u001b[0m\u001b[0m\n",
      "\u001b[0;32m/opt/homebrew/anaconda3/lib/python3.9/site-packages/asn1tools/codecs/__init__.py\u001b[0m in \u001b[0;36mnew_method\u001b[0;34m(self, *args, **kwargs)\u001b[0m\n\u001b[1;32m    156\u001b[0m             \u001b[0;32mif\u001b[0m \u001b[0mself\u001b[0m\u001b[0;34m.\u001b[0m\u001b[0mname\u001b[0m \u001b[0;32mand\u001b[0m \u001b[0;32mnot\u001b[0m \u001b[0mgetattr\u001b[0m\u001b[0;34m(\u001b[0m\u001b[0mself\u001b[0m\u001b[0;34m,\u001b[0m \u001b[0;34m'no_error_location'\u001b[0m\u001b[0;34m,\u001b[0m \u001b[0;32mFalse\u001b[0m\u001b[0;34m)\u001b[0m\u001b[0;34m:\u001b[0m\u001b[0;34m\u001b[0m\u001b[0;34m\u001b[0m\u001b[0m\n\u001b[1;32m    157\u001b[0m                 \u001b[0me\u001b[0m\u001b[0;34m.\u001b[0m\u001b[0madd_location\u001b[0m\u001b[0;34m(\u001b[0m\u001b[0mself\u001b[0m\u001b[0;34m.\u001b[0m\u001b[0mname\u001b[0m\u001b[0;34m)\u001b[0m\u001b[0;34m\u001b[0m\u001b[0;34m\u001b[0m\u001b[0m\n\u001b[0;32m--> 158\u001b[0;31m             \u001b[0;32mraise\u001b[0m \u001b[0me\u001b[0m\u001b[0;34m\u001b[0m\u001b[0;34m\u001b[0m\u001b[0m\n\u001b[0m\u001b[1;32m    159\u001b[0m     \u001b[0;32mreturn\u001b[0m \u001b[0mnew_method\u001b[0m\u001b[0;34m\u001b[0m\u001b[0;34m\u001b[0m\u001b[0m\n\u001b[1;32m    160\u001b[0m \u001b[0;34m\u001b[0m\u001b[0m\n",
      "\u001b[0;32m/opt/homebrew/anaconda3/lib/python3.9/site-packages/asn1tools/codecs/__init__.py\u001b[0m in \u001b[0;36mnew_method\u001b[0;34m(self, *args, **kwargs)\u001b[0m\n\u001b[1;32m    151\u001b[0m     \u001b[0;32mdef\u001b[0m \u001b[0mnew_method\u001b[0m\u001b[0;34m(\u001b[0m\u001b[0mself\u001b[0m\u001b[0;34m,\u001b[0m \u001b[0;34m*\u001b[0m\u001b[0margs\u001b[0m\u001b[0;34m,\u001b[0m \u001b[0;34m**\u001b[0m\u001b[0mkwargs\u001b[0m\u001b[0;34m)\u001b[0m\u001b[0;34m:\u001b[0m\u001b[0;34m\u001b[0m\u001b[0;34m\u001b[0m\u001b[0m\n\u001b[1;32m    152\u001b[0m         \u001b[0;32mtry\u001b[0m\u001b[0;34m:\u001b[0m\u001b[0;34m\u001b[0m\u001b[0;34m\u001b[0m\u001b[0m\n\u001b[0;32m--> 153\u001b[0;31m             \u001b[0;32mreturn\u001b[0m \u001b[0mmethod\u001b[0m\u001b[0;34m(\u001b[0m\u001b[0mself\u001b[0m\u001b[0;34m,\u001b[0m \u001b[0;34m*\u001b[0m\u001b[0margs\u001b[0m\u001b[0;34m,\u001b[0m \u001b[0;34m**\u001b[0m\u001b[0mkwargs\u001b[0m\u001b[0;34m)\u001b[0m\u001b[0;34m\u001b[0m\u001b[0;34m\u001b[0m\u001b[0m\n\u001b[0m\u001b[1;32m    154\u001b[0m         \u001b[0;32mexcept\u001b[0m \u001b[0mErrorWithLocation\u001b[0m \u001b[0;32mas\u001b[0m \u001b[0me\u001b[0m\u001b[0;34m:\u001b[0m\u001b[0;34m\u001b[0m\u001b[0;34m\u001b[0m\u001b[0m\n\u001b[1;32m    155\u001b[0m             \u001b[0;31m# Don't add name if it is blank (for SEQUENCE OF, SET OF etc)\u001b[0m\u001b[0;34m\u001b[0m\u001b[0;34m\u001b[0m\u001b[0m\n",
      "\u001b[0;32m/opt/homebrew/anaconda3/lib/python3.9/site-packages/asn1tools/codecs/ber.py\u001b[0m in \u001b[0;36mencode\u001b[0;34m(self, data, encoded, values)\u001b[0m\n\u001b[1;32m    556\u001b[0m \u001b[0;34m\u001b[0m\u001b[0m\n\u001b[1;32m    557\u001b[0m         \u001b[0;32mfor\u001b[0m \u001b[0mmember\u001b[0m \u001b[0;32min\u001b[0m \u001b[0mself\u001b[0m\u001b[0;34m.\u001b[0m\u001b[0mroot_members\u001b[0m\u001b[0;34m:\u001b[0m\u001b[0;34m\u001b[0m\u001b[0;34m\u001b[0m\u001b[0m\n\u001b[0;32m--> 558\u001b[0;31m             \u001b[0mself\u001b[0m\u001b[0;34m.\u001b[0m\u001b[0mencode_member\u001b[0m\u001b[0;34m(\u001b[0m\u001b[0mmember\u001b[0m\u001b[0;34m,\u001b[0m \u001b[0mdata\u001b[0m\u001b[0;34m,\u001b[0m \u001b[0mencoded_members\u001b[0m\u001b[0;34m)\u001b[0m\u001b[0;34m\u001b[0m\u001b[0;34m\u001b[0m\u001b[0m\n\u001b[0m\u001b[1;32m    559\u001b[0m \u001b[0;34m\u001b[0m\u001b[0m\n\u001b[1;32m    560\u001b[0m         \u001b[0;32mif\u001b[0m \u001b[0mself\u001b[0m\u001b[0;34m.\u001b[0m\u001b[0madditions\u001b[0m\u001b[0;34m:\u001b[0m\u001b[0;34m\u001b[0m\u001b[0;34m\u001b[0m\u001b[0m\n",
      "\u001b[0;32m/opt/homebrew/anaconda3/lib/python3.9/site-packages/asn1tools/codecs/ber.py\u001b[0m in \u001b[0;36mencode_member\u001b[0;34m(self, member, data, encoded_members)\u001b[0m\n\u001b[1;32m    595\u001b[0m             \u001b[0;32mpass\u001b[0m\u001b[0;34m\u001b[0m\u001b[0;34m\u001b[0m\u001b[0m\n\u001b[1;32m    596\u001b[0m         \u001b[0;32melif\u001b[0m \u001b[0;32mnot\u001b[0m \u001b[0mmember\u001b[0m\u001b[0;34m.\u001b[0m\u001b[0mhas_default\u001b[0m\u001b[0;34m(\u001b[0m\u001b[0;34m)\u001b[0m\u001b[0;34m:\u001b[0m\u001b[0;34m\u001b[0m\u001b[0;34m\u001b[0m\u001b[0m\n\u001b[0;32m--> 597\u001b[0;31m             raise EncodeError(\"{} member '{}' not found in {}.\".format(\n\u001b[0m\u001b[1;32m    598\u001b[0m                 \u001b[0mself\u001b[0m\u001b[0;34m.\u001b[0m\u001b[0m__class__\u001b[0m\u001b[0;34m.\u001b[0m\u001b[0m__name__\u001b[0m\u001b[0;34m,\u001b[0m\u001b[0;34m\u001b[0m\u001b[0;34m\u001b[0m\u001b[0m\n\u001b[1;32m    599\u001b[0m                 \u001b[0mname\u001b[0m\u001b[0;34m,\u001b[0m\u001b[0;34m\u001b[0m\u001b[0;34m\u001b[0m\u001b[0m\n",
      "\u001b[0;31mEncodeError\u001b[0m: RadiationData: Sequence member 'timeInformationRadiationData' not found in {'instrumentStatusPacketNumber': 2, 'timeInformationInstrumentStatus': {'relativeTime': 1005, 'timeStamp': datetime.datetime(2023, 3, 20, 15, 23, 27)}, 'instrumentStatusInformation': {'instrumentTemperature': 23, 'instrumentPower': ('instrumentBatteryRemainingCharge', 70), 'instrumentHealth': True}, 'detectorsListInformationStatus': [{'detectorID': 0, 'detectorVoltage': -1290, 'detectorTemperature': 34}], 'endInstrumentStatusPacket': 1110000}."
     ]
    }
   ],
   "source": [
    "encoded = spec.encode('RadiationData', message)"
   ]
  },
  {
   "cell_type": "code",
   "execution_count": 56,
   "id": "f42d44b2",
   "metadata": {},
   "outputs": [
    {
     "name": "stdout",
     "output_type": "stream",
     "text": [
      "bytearray(b'06\\x80\\x01\\x02\\xa1\\x14\\x80\\x02\\x03\\xed\\x81\\x0e20230320152327\\xa2\\x0b\\x80\\x01\\x17\\xa1\\x03\\x80\\x01F\\x82\\x01\\xff\\xa3\\x0e0\\x0c\\x80\\x01\\x00\\x84\\x04\\xc0\\x01\\x02\\x85\\x86\\x01\"')\n"
     ]
    }
   ],
   "source": [
    "print(encoded)"
   ]
  },
  {
   "cell_type": "code",
   "execution_count": 57,
   "id": "750de342",
   "metadata": {
    "scrolled": true
   },
   "outputs": [
    {
     "data": {
      "text/plain": [
       "'1100000011011010000000000000010000001010100001000101001000000000000010000000111110110110000001000011100011001000110000001100100011001100110000001100110011001000110000001100010011010100110010001100110011001000110111101000100000101110000000000000010001011110100001000000111000000000000001010001101000001000000001111111111010001100001110001100000000110010000000000000010000000010000100000001001100000000000001000000101000010110000110000000010010001'"
      ]
     },
     "execution_count": 57,
     "metadata": {},
     "output_type": "execute_result"
    }
   ],
   "source": [
    "bin(int.from_bytes(encoded, byteorder=\"big\")).strip('0b')"
   ]
  },
  {
   "cell_type": "code",
   "execution_count": 58,
   "id": "e0b97672",
   "metadata": {
    "scrolled": true
   },
   "outputs": [
    {
     "name": "stdout",
     "output_type": "stream",
     "text": [
      "Length of encoded message: 56 bytes\n"
     ]
    }
   ],
   "source": [
    "print(\"Length of encoded message:\", len(encoded), \"bytes\")"
   ]
  },
  {
   "cell_type": "code",
   "execution_count": 59,
   "id": "bc246e05",
   "metadata": {},
   "outputs": [
    {
     "data": {
      "text/plain": [
       "'01111000'"
      ]
     },
     "execution_count": 59,
     "metadata": {},
     "output_type": "execute_result"
    }
   ],
   "source": [
    "bin(sum(encoded))[-8:]"
   ]
  },
  {
   "cell_type": "code",
   "execution_count": null,
   "id": "2f797852",
   "metadata": {},
   "outputs": [],
   "source": []
  }
 ],
 "metadata": {
  "kernelspec": {
   "display_name": "Python 3 (ipykernel)",
   "language": "python",
   "name": "python3"
  },
  "language_info": {
   "codemirror_mode": {
    "name": "ipython",
    "version": 3
   },
   "file_extension": ".py",
   "mimetype": "text/x-python",
   "name": "python",
   "nbconvert_exporter": "python",
   "pygments_lexer": "ipython3",
   "version": "3.9.7"
  }
 },
 "nbformat": 4,
 "nbformat_minor": 5
}
