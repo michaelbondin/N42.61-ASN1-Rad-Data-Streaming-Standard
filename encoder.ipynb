{
 "cells": [
  {
   "cell_type": "markdown",
   "id": "872de6c7",
   "metadata": {},
   "source": [
    "#### Notes:\n",
    "1. Python ASN.1 tools library does not yet support parameterization, meaning DATE-TIME-FRACTIONAL isn't accepted. Test examples without it for now.\n",
    "2. Schema is compiled from file, but message to be encoded currently must be input as a python dict."
   ]
  },
  {
   "cell_type": "code",
   "execution_count": 1,
   "id": "0f4abad3",
   "metadata": {},
   "outputs": [],
   "source": [
    "import numpy as np\n",
    "from datetime import datetime\n",
    "import asn1tools\n",
    "import asn1\n",
    "import pyasn1\n",
    "#import asn1vnparser"
   ]
  },
  {
   "cell_type": "markdown",
   "id": "f88c4bf8",
   "metadata": {},
   "source": [
    "## Compile schema from file"
   ]
  },
  {
   "cell_type": "code",
   "execution_count": 2,
   "id": "318e6b42",
   "metadata": {},
   "outputs": [],
   "source": [
    "schema_path = '/Users/michaelbondin/ASN1-Rad-Data-Streaming-Standard/standard_schema_complete_without_date-time-fractional.asn'\n",
    "encoding_rule = 'der'\n",
    "spec = asn1tools.compile_files(schema_path, encoding_rule)"
   ]
  },
  {
   "cell_type": "markdown",
   "id": "122a7930",
   "metadata": {},
   "source": [
    "## Provide message as python dict"
   ]
  },
  {
   "cell_type": "markdown",
   "id": "d385687f",
   "metadata": {},
   "source": [
    "#### Example Gross Gamma Counts Radiation Data Packet"
   ]
  },
  {
   "cell_type": "code",
   "execution_count": 60,
   "id": "dec4811b",
   "metadata": {},
   "outputs": [
    {
     "data": {
      "text/plain": [
       "{'radiationDataPacketNumber': 1,\n",
       " 'timeInformationRadiationData': {'relativeTime': 116011,\n",
       "  'accumulationTime': 112911},\n",
       " 'detectorsListRadiationData': [{'detectorID': 0,\n",
       "   'counts': 273058,\n",
       "   'channelSpectrum': [587,\n",
       "    9339,\n",
       "    13919,\n",
       "    6590,\n",
       "    6821,\n",
       "    7008,\n",
       "    7366,\n",
       "    7930,\n",
       "    8137,\n",
       "    8014,\n",
       "    7964,\n",
       "    9313,\n",
       "    10812,\n",
       "    9506,\n",
       "    8446,\n",
       "    7484,\n",
       "    6757,\n",
       "    6314,\n",
       "    5971,\n",
       "    5680,\n",
       "    5363,\n",
       "    5243,\n",
       "    5246,\n",
       "    5135,\n",
       "    5099,\n",
       "    5166,\n",
       "    5433,\n",
       "    5577,\n",
       "    5703,\n",
       "    4835,\n",
       "    2862,\n",
       "    1793,\n",
       "    1306,\n",
       "    900,\n",
       "    728,\n",
       "    615,\n",
       "    477,\n",
       "    510,\n",
       "    787,\n",
       "    3366,\n",
       "    14696,\n",
       "    24910,\n",
       "    9902,\n",
       "    935,\n",
       "    214,\n",
       "    191,\n",
       "    161,\n",
       "    157,\n",
       "    171,\n",
       "    189,\n",
       "    160,\n",
       "    169,\n",
       "    135,\n",
       "    144,\n",
       "    118,\n",
       "    115,\n",
       "    111,\n",
       "    110,\n",
       "    91,\n",
       "    89,\n",
       "    86,\n",
       "    64,\n",
       "    38,\n",
       "    587,\n",
       "    9339,\n",
       "    13919,\n",
       "    6590,\n",
       "    6821,\n",
       "    7008,\n",
       "    7366,\n",
       "    7930,\n",
       "    8137,\n",
       "    8014,\n",
       "    7964,\n",
       "    9313,\n",
       "    10812,\n",
       "    9506,\n",
       "    8446,\n",
       "    7484,\n",
       "    6757,\n",
       "    6314,\n",
       "    5971,\n",
       "    5680,\n",
       "    5363,\n",
       "    5243,\n",
       "    5246,\n",
       "    5135,\n",
       "    5099,\n",
       "    5166,\n",
       "    5433,\n",
       "    5577,\n",
       "    5703,\n",
       "    4835,\n",
       "    2862,\n",
       "    1793,\n",
       "    1306,\n",
       "    900,\n",
       "    728,\n",
       "    615,\n",
       "    477,\n",
       "    510,\n",
       "    787,\n",
       "    3366,\n",
       "    14696,\n",
       "    24910,\n",
       "    9902,\n",
       "    935,\n",
       "    214,\n",
       "    191,\n",
       "    161,\n",
       "    157,\n",
       "    171,\n",
       "    189,\n",
       "    160,\n",
       "    169,\n",
       "    135,\n",
       "    144,\n",
       "    118,\n",
       "    115,\n",
       "    111,\n",
       "    110,\n",
       "    91,\n",
       "    89,\n",
       "    86,\n",
       "    64,\n",
       "    38],\n",
       "   'derivedData': {'countRate': 2744.299263, 'deadTime': 6.375924139}}]}"
      ]
     },
     "execution_count": 60,
     "metadata": {},
     "output_type": "execute_result"
    }
   ],
   "source": [
    "message = {\n",
    "    'radiationDataPacketNumber'   : 1,\n",
    "    'timeInformationRadiationData' :\n",
    "    {\n",
    "        'relativeTime'             : 116011,\n",
    "        'accumulationTime'         : 112911\n",
    "    },\n",
    "    'detectorsListRadiationData'   : [\n",
    "        {\n",
    "            'detectorID'           : 0,\n",
    "            'counts'               : 273058,\n",
    "            'channelSpectrum'      : [587, 9339, 13919, 6590, 6821, 7008, 7366, 7930, \n",
    "                                    8137, 8014, 7964, 9313, 10812, 9506, 8446, 7484, \n",
    "                                    6757, 6314, 5971, 5680, 5363, 5243, 5246, 5135, \n",
    "                                    5099, 5166, 5433, 5577, 5703, 4835, 2862, 1793, \n",
    "                                    1306, 900, 728, 615, 477, 510, 787, 3366, 14696, \n",
    "                                    24910, 9902, 935, 214, 191, 161, 157, 171, 189, \n",
    "                                    160, 169, 135, 144, 118, 115, 111, 110, 91, 89, \n",
    "                                    86, 64, 38, 587, 9339, 13919, 6590, 6821, 7008, 7366, 7930, \n",
    "                                    8137, 8014, 7964, 9313, 10812, 9506, 8446, 7484, \n",
    "                                    6757, 6314, 5971, 5680, 5363, 5243, 5246, 5135, \n",
    "                                    5099, 5166, 5433, 5577, 5703, 4835, 2862, 1793, \n",
    "                                    1306, 900, 728, 615, 477, 510, 787, 3366, 14696, \n",
    "                                    24910, 9902, 935, 214, 191, 161, 157, 171, 189, \n",
    "                                    160, 169, 135, 144, 118, 115, 111, 110, 91, 89, \n",
    "                                    86, 64, 38],\n",
    "            'derivedData'          :\n",
    "            {\n",
    "                'countRate'        : 2744.299263,\n",
    "                'deadTime'         : 6.375924139,\n",
    "            }\n",
    "        }\n",
    "    ]\n",
    "}\n",
    "\n",
    "# message = {\n",
    "#     'radiationDataPacketNumber'    : 3,\n",
    "#     'timeInformationRadiationData' : {'relativeTime'     : 3010,\n",
    "#                                       'accumulationTime' : 2000},\n",
    "#     'detectorsListRadiationData'   : [{'detectorID'  : 0,\n",
    "#                                        'counts'      : 6489,\n",
    "#                                        'derivedData' : {'countRate'    : 3244.5,\n",
    "#                                                         'exposure'     : 40.056,\n",
    "#                                                         'exposureRate' : 72100.0,\n",
    "#                                                         'alarm1'       : True,\n",
    "#                                                         'deadTime'     : 10.0,\n",
    "#                                                         'liveTime'     : 1800.0}\n",
    "#                                        }],\n",
    "#     'endRadiationDataPacket'       : 1110010\n",
    "# }\n",
    "\n",
    "message"
   ]
  },
  {
   "cell_type": "markdown",
   "id": "90d2e453",
   "metadata": {},
   "source": [
    "#### Example Gross Gamma Counts Instrument Status Packet"
   ]
  },
  {
   "cell_type": "code",
   "execution_count": 54,
   "id": "6ebb03af",
   "metadata": {},
   "outputs": [
    {
     "data": {
      "text/plain": [
       "{'instrumentStatusPacketNumber': 2,\n",
       " 'timeInformationInstrumentStatus': {'relativeTime': 1050,\n",
       "  'timeStamp': datetime.datetime(2023, 3, 20, 15, 23, 27)},\n",
       " 'instrumentStatusInformation': {'instrumentPower': ('instrumentPowerStatus',\n",
       "   True),\n",
       "  'instrumentHealth': True,\n",
       "  'instrumentSelfCalibration': True},\n",
       " 'detectorsListInformationStatus': [{'detectorID': 0, 'detectorHealth': True}]}"
      ]
     },
     "execution_count": 54,
     "metadata": {},
     "output_type": "execute_result"
    }
   ],
   "source": [
    "from datetime import datetime\n",
    "\n",
    "message = {\n",
    "    'instrumentStatusPacketNumber'    : 2,\n",
    "    'timeInformationInstrumentStatus' :\n",
    "    {\n",
    "        'relativeTime'                : 1050,\n",
    "        'timeStamp'                   : datetime.fromisoformat('2023-03-20T15:23:27')\n",
    "    },\n",
    "    'instrumentStatusInformation'     :\n",
    "    {\n",
    "        'instrumentPower'             : ('instrumentPowerStatus', True),\n",
    "        'instrumentHealth'            : True,\n",
    "        'instrumentSelfCalibration'   : True\n",
    "    },\n",
    "    'detectorsListInformationStatus'  :\n",
    "    [\n",
    "        {\n",
    "            'detectorID'              : 0,\n",
    "            'detectorHealth'          : True\n",
    "        }\n",
    "    ]\n",
    "}\n",
    "\n",
    "\n",
    "# message = {\n",
    "#     'instrumentStatusPacketNumber'     : 2,\n",
    "#     'timeInformationInstrumentStatus'  : {'relativeTime'     : 1005,\n",
    "#                                          'timeStamp'        : datetime.fromisoformat('2023-03-20T15:23:27')},\n",
    "#     'instrumentStatusInformation'      : {'instrumentTemperature' : 23,\n",
    "#                                          'instrumentPower'       : ('instrumentBatteryRemainingCharge', 70),\n",
    "#                                          'instrumentHealth'      : True},\n",
    "#     'detectorsListInformationStatus'   : [{'detectorID'          : 0,\n",
    "#                                            'detectorVoltage'     : -1290,\n",
    "#                                            'detectorTemperature' : 34\n",
    "#                                           }],\n",
    "#     'endInstrumentStatusPacket'       : 1111000\n",
    "# }\n",
    "\n",
    "message"
   ]
  },
  {
   "cell_type": "markdown",
   "id": "06641268",
   "metadata": {},
   "source": [
    "#### Example Gross Gamma-Neutron Counts Header Packet"
   ]
  },
  {
   "cell_type": "code",
   "execution_count": 55,
   "id": "6e533d7b",
   "metadata": {},
   "outputs": [
    {
     "data": {
      "text/plain": [
       "{'timeInformationHeader': {'timeStampZero': datetime.datetime(2023, 3, 20, 15, 23, 27),\n",
       "  'instrumentStatusPacketTransmissionRate': 0.0167},\n",
       " 'instrumentInformationHeader': {'instrumentName': 'Example SGC Detector',\n",
       "  'instrumentDescription': 'Sample Spectroscopic Gamma Detector',\n",
       "  'instrumentManufacturer': 'ANSI',\n",
       "  'instrumentModel': 'SGC 1.00',\n",
       "  'instrumentSerialNumber': 'SGC-00000001',\n",
       "  'numberOfDetectors': 1},\n",
       " 'detectorsListHeader': [{'detectorID': 0,\n",
       "   'detectorType': 'spectroscopic',\n",
       "   'detectorKind': 'cLYC',\n",
       "   'spectrumCompression': False,\n",
       "   'backgroundSubtraction': False,\n",
       "   'numberOfMCAChannels': 1000}]}"
      ]
     },
     "execution_count": 55,
     "metadata": {},
     "output_type": "execute_result"
    }
   ],
   "source": [
    "message = {\n",
    "    'timeInformationHeader' :\n",
    "    {\n",
    "        'timeStampZero'                          : datetime.fromisoformat('2023-03-20T15:23:27'),\n",
    "        'instrumentStatusPacketTransmissionRate' : 0.0167\n",
    "    },\n",
    "    'instrumentInformationHeader' : \n",
    "    {\n",
    "        'instrumentName'                         : \"Example SGC Detector\",\n",
    "        'instrumentDescription'                  : \"Sample Spectroscopic Gamma Detector\",\n",
    "        'instrumentManufacturer'                 : \"ANSI\",\n",
    "        'instrumentModel'                        : \"SGC 1.00\",\n",
    "        'instrumentSerialNumber'                 : \"SGC-00000001\",\n",
    "        'numberOfDetectors'                      : 1\n",
    "    },\n",
    "    'detectorsListHeader' :\n",
    "    [\n",
    "        {\n",
    "            'detectorID'                         : 0,\n",
    "            'detectorType'                       : \"spectroscopic\",\n",
    "            'detectorKind'                       : \"cLYC\",\n",
    "            'spectrumCompression'                : False,\n",
    "            'backgroundSubtraction'              : False,\n",
    "            'numberOfMCAChannels'                : 1000\n",
    "        }\n",
    "    ]\n",
    "}\n",
    "\n",
    "# message = {\n",
    "#     'timeInformationHeader'       : \n",
    "#         {\n",
    "#          'timeStampZero'                       : datetime.fromisoformat('2023-03-20T15:23:27'),\n",
    "#          'radiationDataPacketTransmissionRate' : 2.0\n",
    "#         },\n",
    "#     'instrumentInformationHeader' : \n",
    "#         {\n",
    "#         'instrumentName'         : \"GN1\",\n",
    "#         'instrumentDescription'  : 'Sample Gross Gamma Counts Detector',\n",
    "#         'instrumentManufacturer' : 'IEEE',\n",
    "#         'instrumentModel'        : 'Basic Gamma-Neutron Instrument 1.00',\n",
    "#         'numberOfDetectors'      : 2,\n",
    "#         'instrumentSerialNumber' : 'AAA-0001'\n",
    "#         },\n",
    "#     'detectorsListHeader' :\n",
    "#         [\n",
    "#             {\n",
    "#             'detectorID'            : 0,\n",
    "#             'detectorType'          : 'grossGamma',\n",
    "#             'detectorKind'          : 'naI',\n",
    "#             'detectorManufacturer'  : 'IEEE',\n",
    "#             'detectorModel'         : 'Basic Gamma 1.00',\n",
    "#             'exposureCoeff'         : 7.5,\n",
    "#             'backgroundSubtraction' : True,\n",
    "#             'numberOfMCAChannels'   : 1,\n",
    "#             'calibration' :\n",
    "#                 {\n",
    "#                 'calibrationTime' : datetime.fromisoformat('2023-03-20T09:23:27'),\n",
    "#                 }\n",
    "#             },\n",
    "#             {\n",
    "#             'detectorID'            : 1,\n",
    "#             'detectorType'          : 'grossNeutron',\n",
    "#             'detectorKind'          : 'he3',\n",
    "#             'detectorDescription'   : 'Sample Gross Neutron Counts Detector',\n",
    "#             'detectorManufacturer'  : 'IEEE',\n",
    "#             'detectorModel'         : 'Basic Gamma 1.00',\n",
    "#             'detectorSerialNumber'  : 'N-00000001',\n",
    "#             'doseConversionCoeff'   : 20,\n",
    "#             'numberOfMCAChannels'   : 1,\n",
    "#             },\n",
    "#         ],\n",
    "# #     'endHeaderPacket' : 10010\n",
    "# }\n",
    "\n",
    "message"
   ]
  },
  {
   "cell_type": "code",
   "execution_count": 56,
   "id": "25591c25",
   "metadata": {},
   "outputs": [],
   "source": [
    "encoded = spec.encode('Header', message)"
   ]
  },
  {
   "cell_type": "code",
   "execution_count": 57,
   "id": "0751c5e2",
   "metadata": {},
   "outputs": [
    {
     "ename": "EncodeError",
     "evalue": "InstrumentStatus: Sequence member 'instrumentStatusPacketNumber' not found in {'timeInformationHeader': {'timeStampZero': datetime.datetime(2023, 3, 20, 15, 23, 27), 'instrumentStatusPacketTransmissionRate': 0.0167}, 'instrumentInformationHeader': {'instrumentName': 'Example SGC Detector', 'instrumentDescription': 'Sample Spectroscopic Gamma Detector', 'instrumentManufacturer': 'ANSI', 'instrumentModel': 'SGC 1.00', 'instrumentSerialNumber': 'SGC-00000001', 'numberOfDetectors': 1}, 'detectorsListHeader': [{'detectorID': 0, 'detectorType': 'spectroscopic', 'detectorKind': 'cLYC', 'spectrumCompression': False, 'backgroundSubtraction': False, 'numberOfMCAChannels': 1000}]}.",
     "output_type": "error",
     "traceback": [
      "\u001b[0;31m---------------------------------------------------------------------------\u001b[0m",
      "\u001b[0;31mEncodeError\u001b[0m                               Traceback (most recent call last)",
      "\u001b[0;32m/var/folders/v2/6x0c01yj52j10j76tgf1cyn00000gn/T/ipykernel_47597/2631528702.py\u001b[0m in \u001b[0;36m<module>\u001b[0;34m\u001b[0m\n\u001b[0;32m----> 1\u001b[0;31m \u001b[0mencoded\u001b[0m \u001b[0;34m=\u001b[0m \u001b[0mspec\u001b[0m\u001b[0;34m.\u001b[0m\u001b[0mencode\u001b[0m\u001b[0;34m(\u001b[0m\u001b[0;34m'InstrumentStatus'\u001b[0m\u001b[0;34m,\u001b[0m \u001b[0mmessage\u001b[0m\u001b[0;34m)\u001b[0m\u001b[0;34m\u001b[0m\u001b[0;34m\u001b[0m\u001b[0m\n\u001b[0m",
      "\u001b[0;32m/opt/homebrew/anaconda3/lib/python3.9/site-packages/asn1tools/compiler.py\u001b[0m in \u001b[0;36mencode\u001b[0;34m(self, name, data, check_types, check_constraints, **kwargs)\u001b[0m\n\u001b[1;32m    136\u001b[0m             \u001b[0mtype_\u001b[0m\u001b[0;34m.\u001b[0m\u001b[0mcheck_constraints\u001b[0m\u001b[0;34m(\u001b[0m\u001b[0mdata\u001b[0m\u001b[0;34m)\u001b[0m\u001b[0;34m\u001b[0m\u001b[0;34m\u001b[0m\u001b[0m\n\u001b[1;32m    137\u001b[0m \u001b[0;34m\u001b[0m\u001b[0m\n\u001b[0;32m--> 138\u001b[0;31m         \u001b[0;32mreturn\u001b[0m \u001b[0mtype_\u001b[0m\u001b[0;34m.\u001b[0m\u001b[0mencode\u001b[0m\u001b[0;34m(\u001b[0m\u001b[0mdata\u001b[0m\u001b[0;34m,\u001b[0m \u001b[0;34m**\u001b[0m\u001b[0mkwargs\u001b[0m\u001b[0;34m)\u001b[0m\u001b[0;34m\u001b[0m\u001b[0;34m\u001b[0m\u001b[0m\n\u001b[0m\u001b[1;32m    139\u001b[0m \u001b[0;34m\u001b[0m\u001b[0m\n\u001b[1;32m    140\u001b[0m     \u001b[0;32mdef\u001b[0m \u001b[0mdecode\u001b[0m\u001b[0;34m(\u001b[0m\u001b[0mself\u001b[0m\u001b[0;34m,\u001b[0m \u001b[0mname\u001b[0m\u001b[0;34m,\u001b[0m \u001b[0mdata\u001b[0m\u001b[0;34m,\u001b[0m \u001b[0mcheck_constraints\u001b[0m\u001b[0;34m=\u001b[0m\u001b[0;32mFalse\u001b[0m\u001b[0;34m)\u001b[0m\u001b[0;34m:\u001b[0m\u001b[0;34m\u001b[0m\u001b[0;34m\u001b[0m\u001b[0m\n",
      "\u001b[0;32m/opt/homebrew/anaconda3/lib/python3.9/site-packages/asn1tools/codecs/ber.py\u001b[0m in \u001b[0;36mencode\u001b[0;34m(self, data)\u001b[0m\n\u001b[1;32m   1468\u001b[0m     \u001b[0;32mdef\u001b[0m \u001b[0mencode\u001b[0m\u001b[0;34m(\u001b[0m\u001b[0mself\u001b[0m\u001b[0;34m,\u001b[0m \u001b[0mdata\u001b[0m\u001b[0;34m)\u001b[0m\u001b[0;34m:\u001b[0m\u001b[0;34m\u001b[0m\u001b[0;34m\u001b[0m\u001b[0m\n\u001b[1;32m   1469\u001b[0m         \u001b[0mencoded\u001b[0m \u001b[0;34m=\u001b[0m \u001b[0mbytearray\u001b[0m\u001b[0;34m(\u001b[0m\u001b[0;34m)\u001b[0m\u001b[0;34m\u001b[0m\u001b[0;34m\u001b[0m\u001b[0m\n\u001b[0;32m-> 1470\u001b[0;31m         \u001b[0mself\u001b[0m\u001b[0;34m.\u001b[0m\u001b[0m_type\u001b[0m\u001b[0;34m.\u001b[0m\u001b[0mencode\u001b[0m\u001b[0;34m(\u001b[0m\u001b[0mdata\u001b[0m\u001b[0;34m,\u001b[0m \u001b[0mencoded\u001b[0m\u001b[0;34m)\u001b[0m\u001b[0;34m\u001b[0m\u001b[0;34m\u001b[0m\u001b[0m\n\u001b[0m\u001b[1;32m   1471\u001b[0m \u001b[0;34m\u001b[0m\u001b[0m\n\u001b[1;32m   1472\u001b[0m         \u001b[0;32mreturn\u001b[0m \u001b[0mencoded\u001b[0m\u001b[0;34m\u001b[0m\u001b[0;34m\u001b[0m\u001b[0m\n",
      "\u001b[0;32m/opt/homebrew/anaconda3/lib/python3.9/site-packages/asn1tools/codecs/__init__.py\u001b[0m in \u001b[0;36mnew_method\u001b[0;34m(self, *args, **kwargs)\u001b[0m\n\u001b[1;32m    156\u001b[0m             \u001b[0;32mif\u001b[0m \u001b[0mself\u001b[0m\u001b[0;34m.\u001b[0m\u001b[0mname\u001b[0m \u001b[0;32mand\u001b[0m \u001b[0;32mnot\u001b[0m \u001b[0mgetattr\u001b[0m\u001b[0;34m(\u001b[0m\u001b[0mself\u001b[0m\u001b[0;34m,\u001b[0m \u001b[0;34m'no_error_location'\u001b[0m\u001b[0;34m,\u001b[0m \u001b[0;32mFalse\u001b[0m\u001b[0;34m)\u001b[0m\u001b[0;34m:\u001b[0m\u001b[0;34m\u001b[0m\u001b[0;34m\u001b[0m\u001b[0m\n\u001b[1;32m    157\u001b[0m                 \u001b[0me\u001b[0m\u001b[0;34m.\u001b[0m\u001b[0madd_location\u001b[0m\u001b[0;34m(\u001b[0m\u001b[0mself\u001b[0m\u001b[0;34m.\u001b[0m\u001b[0mname\u001b[0m\u001b[0;34m)\u001b[0m\u001b[0;34m\u001b[0m\u001b[0;34m\u001b[0m\u001b[0m\n\u001b[0;32m--> 158\u001b[0;31m             \u001b[0;32mraise\u001b[0m \u001b[0me\u001b[0m\u001b[0;34m\u001b[0m\u001b[0;34m\u001b[0m\u001b[0m\n\u001b[0m\u001b[1;32m    159\u001b[0m     \u001b[0;32mreturn\u001b[0m \u001b[0mnew_method\u001b[0m\u001b[0;34m\u001b[0m\u001b[0;34m\u001b[0m\u001b[0m\n\u001b[1;32m    160\u001b[0m \u001b[0;34m\u001b[0m\u001b[0m\n",
      "\u001b[0;32m/opt/homebrew/anaconda3/lib/python3.9/site-packages/asn1tools/codecs/__init__.py\u001b[0m in \u001b[0;36mnew_method\u001b[0;34m(self, *args, **kwargs)\u001b[0m\n\u001b[1;32m    151\u001b[0m     \u001b[0;32mdef\u001b[0m \u001b[0mnew_method\u001b[0m\u001b[0;34m(\u001b[0m\u001b[0mself\u001b[0m\u001b[0;34m,\u001b[0m \u001b[0;34m*\u001b[0m\u001b[0margs\u001b[0m\u001b[0;34m,\u001b[0m \u001b[0;34m**\u001b[0m\u001b[0mkwargs\u001b[0m\u001b[0;34m)\u001b[0m\u001b[0;34m:\u001b[0m\u001b[0;34m\u001b[0m\u001b[0;34m\u001b[0m\u001b[0m\n\u001b[1;32m    152\u001b[0m         \u001b[0;32mtry\u001b[0m\u001b[0;34m:\u001b[0m\u001b[0;34m\u001b[0m\u001b[0;34m\u001b[0m\u001b[0m\n\u001b[0;32m--> 153\u001b[0;31m             \u001b[0;32mreturn\u001b[0m \u001b[0mmethod\u001b[0m\u001b[0;34m(\u001b[0m\u001b[0mself\u001b[0m\u001b[0;34m,\u001b[0m \u001b[0;34m*\u001b[0m\u001b[0margs\u001b[0m\u001b[0;34m,\u001b[0m \u001b[0;34m**\u001b[0m\u001b[0mkwargs\u001b[0m\u001b[0;34m)\u001b[0m\u001b[0;34m\u001b[0m\u001b[0;34m\u001b[0m\u001b[0m\n\u001b[0m\u001b[1;32m    154\u001b[0m         \u001b[0;32mexcept\u001b[0m \u001b[0mErrorWithLocation\u001b[0m \u001b[0;32mas\u001b[0m \u001b[0me\u001b[0m\u001b[0;34m:\u001b[0m\u001b[0;34m\u001b[0m\u001b[0;34m\u001b[0m\u001b[0m\n\u001b[1;32m    155\u001b[0m             \u001b[0;31m# Don't add name if it is blank (for SEQUENCE OF, SET OF etc)\u001b[0m\u001b[0;34m\u001b[0m\u001b[0;34m\u001b[0m\u001b[0m\n",
      "\u001b[0;32m/opt/homebrew/anaconda3/lib/python3.9/site-packages/asn1tools/codecs/ber.py\u001b[0m in \u001b[0;36mencode\u001b[0;34m(self, data, encoded, values)\u001b[0m\n\u001b[1;32m    556\u001b[0m \u001b[0;34m\u001b[0m\u001b[0m\n\u001b[1;32m    557\u001b[0m         \u001b[0;32mfor\u001b[0m \u001b[0mmember\u001b[0m \u001b[0;32min\u001b[0m \u001b[0mself\u001b[0m\u001b[0;34m.\u001b[0m\u001b[0mroot_members\u001b[0m\u001b[0;34m:\u001b[0m\u001b[0;34m\u001b[0m\u001b[0;34m\u001b[0m\u001b[0m\n\u001b[0;32m--> 558\u001b[0;31m             \u001b[0mself\u001b[0m\u001b[0;34m.\u001b[0m\u001b[0mencode_member\u001b[0m\u001b[0;34m(\u001b[0m\u001b[0mmember\u001b[0m\u001b[0;34m,\u001b[0m \u001b[0mdata\u001b[0m\u001b[0;34m,\u001b[0m \u001b[0mencoded_members\u001b[0m\u001b[0;34m)\u001b[0m\u001b[0;34m\u001b[0m\u001b[0;34m\u001b[0m\u001b[0m\n\u001b[0m\u001b[1;32m    559\u001b[0m \u001b[0;34m\u001b[0m\u001b[0m\n\u001b[1;32m    560\u001b[0m         \u001b[0;32mif\u001b[0m \u001b[0mself\u001b[0m\u001b[0;34m.\u001b[0m\u001b[0madditions\u001b[0m\u001b[0;34m:\u001b[0m\u001b[0;34m\u001b[0m\u001b[0;34m\u001b[0m\u001b[0m\n",
      "\u001b[0;32m/opt/homebrew/anaconda3/lib/python3.9/site-packages/asn1tools/codecs/ber.py\u001b[0m in \u001b[0;36mencode_member\u001b[0;34m(self, member, data, encoded_members)\u001b[0m\n\u001b[1;32m    595\u001b[0m             \u001b[0;32mpass\u001b[0m\u001b[0;34m\u001b[0m\u001b[0;34m\u001b[0m\u001b[0m\n\u001b[1;32m    596\u001b[0m         \u001b[0;32melif\u001b[0m \u001b[0;32mnot\u001b[0m \u001b[0mmember\u001b[0m\u001b[0;34m.\u001b[0m\u001b[0mhas_default\u001b[0m\u001b[0;34m(\u001b[0m\u001b[0;34m)\u001b[0m\u001b[0;34m:\u001b[0m\u001b[0;34m\u001b[0m\u001b[0;34m\u001b[0m\u001b[0m\n\u001b[0;32m--> 597\u001b[0;31m             raise EncodeError(\"{} member '{}' not found in {}.\".format(\n\u001b[0m\u001b[1;32m    598\u001b[0m                 \u001b[0mself\u001b[0m\u001b[0;34m.\u001b[0m\u001b[0m__class__\u001b[0m\u001b[0;34m.\u001b[0m\u001b[0m__name__\u001b[0m\u001b[0;34m,\u001b[0m\u001b[0;34m\u001b[0m\u001b[0;34m\u001b[0m\u001b[0m\n\u001b[1;32m    599\u001b[0m                 \u001b[0mname\u001b[0m\u001b[0;34m,\u001b[0m\u001b[0;34m\u001b[0m\u001b[0;34m\u001b[0m\u001b[0m\n",
      "\u001b[0;31mEncodeError\u001b[0m: InstrumentStatus: Sequence member 'instrumentStatusPacketNumber' not found in {'timeInformationHeader': {'timeStampZero': datetime.datetime(2023, 3, 20, 15, 23, 27), 'instrumentStatusPacketTransmissionRate': 0.0167}, 'instrumentInformationHeader': {'instrumentName': 'Example SGC Detector', 'instrumentDescription': 'Sample Spectroscopic Gamma Detector', 'instrumentManufacturer': 'ANSI', 'instrumentModel': 'SGC 1.00', 'instrumentSerialNumber': 'SGC-00000001', 'numberOfDetectors': 1}, 'detectorsListHeader': [{'detectorID': 0, 'detectorType': 'spectroscopic', 'detectorKind': 'cLYC', 'spectrumCompression': False, 'backgroundSubtraction': False, 'numberOfMCAChannels': 1000}]}."
     ]
    }
   ],
   "source": [
    "encoded = spec.encode('InstrumentStatus', message)"
   ]
  },
  {
   "cell_type": "code",
   "execution_count": 61,
   "id": "26ea0ddf",
   "metadata": {
    "scrolled": false
   },
   "outputs": [],
   "source": [
    "encoded = spec.encode('RadiationData', message)"
   ]
  },
  {
   "cell_type": "code",
   "execution_count": 62,
   "id": "f42d44b2",
   "metadata": {},
   "outputs": [
    {
     "name": "stdout",
     "output_type": "stream",
     "text": [
      "bytearray(b'0\\x82\\x02!\\x80\\x01\\x01\\xa1\\n\\x80\\x03\\x01\\xc5+\\x81\\x03\\x01\\xb9\\x0f\\xa2\\x82\\x02\\x0e0\\x82\\x02\\n\\x80\\x01\\x00\\x81\\x03\\x04*\\xa2\\xa2\\x82\\x01\\xe6\\x02\\x02\\x02K\\x02\\x02${\\x02\\x026_\\x02\\x02\\x19\\xbe\\x02\\x02\\x1a\\xa5\\x02\\x02\\x1b`\\x02\\x02\\x1c\\xc6\\x02\\x02\\x1e\\xfa\\x02\\x02\\x1f\\xc9\\x02\\x02\\x1fN\\x02\\x02\\x1f\\x1c\\x02\\x02$a\\x02\\x02*<\\x02\\x02%\"\\x02\\x02 \\xfe\\x02\\x02\\x1d<\\x02\\x02\\x1ae\\x02\\x02\\x18\\xaa\\x02\\x02\\x17S\\x02\\x02\\x160\\x02\\x02\\x14\\xf3\\x02\\x02\\x14{\\x02\\x02\\x14~\\x02\\x02\\x14\\x0f\\x02\\x02\\x13\\xeb\\x02\\x02\\x14.\\x02\\x02\\x159\\x02\\x02\\x15\\xc9\\x02\\x02\\x16G\\x02\\x02\\x12\\xe3\\x02\\x02\\x0b.\\x02\\x02\\x07\\x01\\x02\\x02\\x05\\x1a\\x02\\x02\\x03\\x84\\x02\\x02\\x02\\xd8\\x02\\x02\\x02g\\x02\\x02\\x01\\xdd\\x02\\x02\\x01\\xfe\\x02\\x02\\x03\\x13\\x02\\x02\\r&\\x02\\x029h\\x02\\x02aN\\x02\\x02&\\xae\\x02\\x02\\x03\\xa7\\x02\\x02\\x00\\xd6\\x02\\x02\\x00\\xbf\\x02\\x02\\x00\\xa1\\x02\\x02\\x00\\x9d\\x02\\x02\\x00\\xab\\x02\\x02\\x00\\xbd\\x02\\x02\\x00\\xa0\\x02\\x02\\x00\\xa9\\x02\\x02\\x00\\x87\\x02\\x02\\x00\\x90\\x02\\x01v\\x02\\x01s\\x02\\x01o\\x02\\x01n\\x02\\x01[\\x02\\x01Y\\x02\\x01V\\x02\\x01@\\x02\\x01&\\x02\\x02\\x02K\\x02\\x02${\\x02\\x026_\\x02\\x02\\x19\\xbe\\x02\\x02\\x1a\\xa5\\x02\\x02\\x1b`\\x02\\x02\\x1c\\xc6\\x02\\x02\\x1e\\xfa\\x02\\x02\\x1f\\xc9\\x02\\x02\\x1fN\\x02\\x02\\x1f\\x1c\\x02\\x02$a\\x02\\x02*<\\x02\\x02%\"\\x02\\x02 \\xfe\\x02\\x02\\x1d<\\x02\\x02\\x1ae\\x02\\x02\\x18\\xaa\\x02\\x02\\x17S\\x02\\x02\\x160\\x02\\x02\\x14\\xf3\\x02\\x02\\x14{\\x02\\x02\\x14~\\x02\\x02\\x14\\x0f\\x02\\x02\\x13\\xeb\\x02\\x02\\x14.\\x02\\x02\\x159\\x02\\x02\\x15\\xc9\\x02\\x02\\x16G\\x02\\x02\\x12\\xe3\\x02\\x02\\x0b.\\x02\\x02\\x07\\x01\\x02\\x02\\x05\\x1a\\x02\\x02\\x03\\x84\\x02\\x02\\x02\\xd8\\x02\\x02\\x02g\\x02\\x02\\x01\\xdd\\x02\\x02\\x01\\xfe\\x02\\x02\\x03\\x13\\x02\\x02\\r&\\x02\\x029h\\x02\\x02aN\\x02\\x02&\\xae\\x02\\x02\\x03\\xa7\\x02\\x02\\x00\\xd6\\x02\\x02\\x00\\xbf\\x02\\x02\\x00\\xa1\\x02\\x02\\x00\\x9d\\x02\\x02\\x00\\xab\\x02\\x02\\x00\\xbd\\x02\\x02\\x00\\xa0\\x02\\x02\\x00\\xa9\\x02\\x02\\x00\\x87\\x02\\x02\\x00\\x90\\x02\\x01v\\x02\\x01s\\x02\\x01o\\x02\\x01n\\x02\\x01[\\x02\\x01Y\\x02\\x01V\\x02\\x01@\\x02\\x01&\\xa3\\x16\\x80\\t\\x80\\xd8\\n\\xb8L\\x9c\\x7f\\xfd\\xe7\\x8a\\t\\x80\\xcf\\x0c\\xc0y \\xf5\\x90]')\n"
     ]
    }
   ],
   "source": [
    "print(encoded)"
   ]
  },
  {
   "cell_type": "code",
   "execution_count": 63,
   "id": "750de342",
   "metadata": {
    "scrolled": true
   },
   "outputs": [
    {
     "data": {
      "text/plain": [
       "'1100001000001000000010001000011000000000000001000000011010000100001010100000000000001100000001110001010010101110000001000000110000000110111001000011111010001010000010000000100000111000110000100000100000001000001010100000000000000100000000100000010000001100000100001010101010001010100010100000100000000111100110000000100000001000000010010010110000001000000010001001000111101100000010000000100011011001011111000000100000001000011001101111100000001000000010000110101010010100000010000000100001101101100000000000100000001000011100110001100000001000000010000111101111101000000010000000100001111111001001000000100000001000011111010011100000001000000010000111110001110000000010000000100010010001100001000000100000001000101010001111000000001000000010001001010010001000000010000000100010000011111110000000100000001000011101001111000000001000000010000110100110010100000010000000100001100010101010000000100000001000010111010100110000001000000010000101100011000000000010000000100001010011110011000000100000001000010100011110110000001000000010000101000111111000000010000000100001010000001111000000100000001000010011111010110000001000000010000101000010111000000010000000100001010100111001000000100000001000010101110010010000001000000010000101100100011100000010000000100001001011100011000000100000001000001011001011100000001000000010000001110000000100000010000000100000010100011010000000100000001000000011100001000000001000000010000000101101100000000010000000100000001001100111000000100000001000000001110111010000001000000010000000011111111000000010000000100000001100010011000000100000001000001101001001100000001000000010001110010110100000000010000000100110000101001110000000100000001000100110101011100000001000000010000000111010011100000010000000100000000011010110000000100000001000000000101111110000001000000010000000001010000100000010000000100000000010011101000000100000001000000000101010110000001000000010000000001011110100000010000000100000000010100000000000100000001000000000101010010000001000000010000000001000011100000010000000100000000010010000000000100000000101110110000000100000000101110011000000100000000101101111000000100000000101101110000000100000000101011011000000100000000101011001000000100000000101010110000000100000000101000000000000100000000100100110000000100000001000000010010010110000001000000010001001000111101100000010000000100011011001011111000000100000001000011001101111100000001000000010000110101010010100000010000000100001101101100000000000100000001000011100110001100000001000000010000111101111101000000010000000100001111111001001000000100000001000011111010011100000001000000010000111110001110000000010000000100010010001100001000000100000001000101010001111000000001000000010001001010010001000000010000000100010000011111110000000100000001000011101001111000000001000000010000110100110010100000010000000100001100010101010000000100000001000010111010100110000001000000010000101100011000000000010000000100001010011110011000000100000001000010100011110110000001000000010000101000111111000000010000000100001010000001111000000100000001000010011111010110000001000000010000101000010111000000010000000100001010100111001000000100000001000010101110010010000001000000010000101100100011100000010000000100001001011100011000000100000001000001011001011100000001000000010000001110000000100000010000000100000010100011010000000100000001000000011100001000000001000000010000000101101100000000010000000100000001001100111000000100000001000000001110111010000001000000010000000011111111000000010000000100000001100010011000000100000001000001101001001100000001000000010001110010110100000000010000000100110000101001110000000100000001000100110101011100000001000000010000000111010011100000010000000100000000011010110000000100000001000000000101111110000001000000010000000001010000100000010000000100000000010011101000000100000001000000000101010110000001000000010000000001011110100000010000000100000000010100000000000100000001000000000101010010000001000000010000000001000011100000010000000100000000010010000000000100000000101110110000000100000000101110011000000100000000101101111000000100000000101101110000000100000000101011011000000100000000101011001000000100000000101010110000000100000000101000000000000100000000100100110101000110001011010000000000010011000000011011000000010101011100001001100100111000111111111111101111001111000101000001001100000001100111100001100110000000111100100100000111101011001000001011101'"
      ]
     },
     "execution_count": 63,
     "metadata": {},
     "output_type": "execute_result"
    }
   ],
   "source": [
    "bin(int.from_bytes(encoded, byteorder=\"big\")).strip('0b')"
   ]
  },
  {
   "cell_type": "code",
   "execution_count": 64,
   "id": "e0b97672",
   "metadata": {
    "scrolled": true
   },
   "outputs": [
    {
     "name": "stdout",
     "output_type": "stream",
     "text": [
      "Length of encoded message: 549 bytes\n"
     ]
    }
   ],
   "source": [
    "print(\"Length of encoded message:\", len(encoded), \"bytes\")"
   ]
  },
  {
   "cell_type": "code",
   "execution_count": 65,
   "id": "29b74924",
   "metadata": {},
   "outputs": [
    {
     "data": {
      "text/plain": [
       "'10100111'"
      ]
     },
     "execution_count": 65,
     "metadata": {},
     "output_type": "execute_result"
    }
   ],
   "source": [
    "bin(sum(encoded))[-8:]"
   ]
  },
  {
   "cell_type": "code",
   "execution_count": null,
   "id": "4da27d0a",
   "metadata": {},
   "outputs": [],
   "source": []
  },
  {
   "cell_type": "code",
   "execution_count": null,
   "id": "d55afb8f",
   "metadata": {},
   "outputs": [],
   "source": []
  },
  {
   "cell_type": "code",
   "execution_count": null,
   "id": "d79bb187",
   "metadata": {},
   "outputs": [],
   "source": []
  }
 ],
 "metadata": {
  "kernelspec": {
   "display_name": "Python 3 (ipykernel)",
   "language": "python",
   "name": "python3"
  },
  "language_info": {
   "codemirror_mode": {
    "name": "ipython",
    "version": 3
   },
   "file_extension": ".py",
   "mimetype": "text/x-python",
   "name": "python",
   "nbconvert_exporter": "python",
   "pygments_lexer": "ipython3",
   "version": "3.9.7"
  }
 },
 "nbformat": 4,
 "nbformat_minor": 5
}
