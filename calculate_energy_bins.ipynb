{
 "cells": [
  {
   "cell_type": "code",
   "execution_count": 3,
   "id": "5260b018",
   "metadata": {},
   "outputs": [],
   "source": [
    "import numpy as np\n",
    "import matplotlib.pyplot as plt\n",
    "from scipy.optimize import curve_fit\n",
    "import matplotlib.pyplot as plt"
   ]
  },
  {
   "cell_type": "code",
   "execution_count": 4,
   "id": "32b10e38",
   "metadata": {},
   "outputs": [],
   "source": [
    "def func(x, a, b, c):\n",
    "    return a * np.exp(-b * x) + c"
   ]
  },
  {
   "cell_type": "code",
   "execution_count": 5,
   "id": "c4f6f826",
   "metadata": {},
   "outputs": [],
   "source": [
    "ydata = [122, 239, 352, 609, 968, 1460, 1764, 2204, 2614]\n",
    "xdata = [115, 338, 504, 915, 1428, 1935, 2300, 2945, 3332]"
   ]
  },
  {
   "cell_type": "code",
   "execution_count": 10,
   "id": "315759b5",
   "metadata": {
    "scrolled": true
   },
   "outputs": [],
   "source": [
    "# popt, pcov = curve_fit(func, xdata, ydata)\n",
    "# popt\n",
    "# # array([2.56274217, 1.37268521, 0.47427475])\n",
    "# # plt.plot(xdata, func(xdata, *popt), 'r-',\n",
    "# #          label='fit: a=%5.3f, b=%5.3f, c=%5.3f' % tuple(popt))"
   ]
  },
  {
   "cell_type": "code",
   "execution_count": 16,
   "id": "bc84e187",
   "metadata": {},
   "outputs": [],
   "source": [
    "coeffs = np.polyfit(xdata, ydata, 2)"
   ]
  },
  {
   "cell_type": "code",
   "execution_count": 21,
   "id": "f367e8d0",
   "metadata": {},
   "outputs": [],
   "source": [
    "channels = np.linspace(0, 255, 256)\n",
    "bins = coeffs[0] * channels ** 2 + coeffs[1] * channels + coeffs[2]"
   ]
  },
  {
   "cell_type": "code",
   "execution_count": 22,
   "id": "947e360e",
   "metadata": {},
   "outputs": [
    {
     "data": {
      "text/plain": [
       "Text(0, 0.5, 'Energy')"
      ]
     },
     "execution_count": 22,
     "metadata": {},
     "output_type": "execute_result"
    },
    {
     "data": {
      "image/png": "[encoded data removed]",
      "text/plain": [
       "<Figure size 432x288 with 1 Axes>"
      ]
     },
     "metadata": {
      "needs_background": "light"
     },
     "output_type": "display_data"
    }
   ],
   "source": [
    "plt.plot(channels, bins)\n",
    "plt.xlabel(\"Channel\")\n",
    "plt.ylabel(\"Energy\")"
   ]
  },
  {
   "cell_type": "code",
   "execution_count": 23,
   "id": "cf1b0879",
   "metadata": {},
   "outputs": [
    {
     "data": {
      "text/plain": [
       "array([ 21.62881741,  22.26863737,  22.90853845,  23.54852065,\n",
       "        24.18858398,  24.82872843,  25.468954  ,  26.1092607 ,\n",
       "        26.74964852,  27.39011747,  28.03066753,  28.67129873,\n",
       "        29.31201104,  29.95280448,  30.59367904,  31.23463472,\n",
       "        31.87567153,  32.51678946,  33.15798852,  33.7992687 ,\n",
       "        34.44063   ,  35.08207243,  35.72359598,  36.36520065,\n",
       "        37.00688644,  37.64865336,  38.29050141,  38.93243057,\n",
       "        39.57444086,  40.21653227,  40.85870481,  41.50095847,\n",
       "        42.14329325,  42.78570916,  43.42820619,  44.07078435,\n",
       "        44.71344362,  45.35618402,  45.99900555,  46.64190819,\n",
       "        47.28489197,  47.92795686,  48.57110288,  49.21433002,\n",
       "        49.85763828,  50.50102767,  51.14449818,  51.78804982,\n",
       "        52.43168258,  53.07539646,  53.71919146,  54.36306759,\n",
       "        55.00702485,  55.65106322,  56.29518272,  56.93938334,\n",
       "        57.58366509,  58.22802796,  58.87247195,  59.51699707,\n",
       "        60.16160331,  60.80629067,  61.45105916,  62.09590877,\n",
       "        62.7408395 ,  63.38585136,  64.03094434,  64.67611844,\n",
       "        65.32137367,  65.96671002,  66.6121275 ,  67.25762609,\n",
       "        67.90320581,  68.54886666,  69.19460863,  69.84043172,\n",
       "        70.48633593,  71.13232127,  71.77838773,  72.42453532,\n",
       "        73.07076403,  73.71707386,  74.36346481,  75.00993689,\n",
       "        75.6564901 ,  76.30312442,  76.94983987,  77.59663644,\n",
       "        78.24351414,  78.89047296,  79.5375129 ,  80.18463397,\n",
       "        80.83183616,  81.47911947,  82.12648391,  82.77392947,\n",
       "        83.42145615,  84.06906396,  84.71675289,  85.36452294,\n",
       "        86.01237412,  86.66030642,  87.30831985,  87.9564144 ,\n",
       "        88.60459007,  89.25284686,  89.90118478,  90.54960382,\n",
       "        91.19810399,  91.84668527,  92.49534769,  93.14409122,\n",
       "        93.79291588,  94.44182166,  95.09080857,  95.7398766 ,\n",
       "        96.38902575,  97.03825603,  97.68756743,  98.33695995,\n",
       "        98.9864336 ,  99.63598836, 100.28562426, 100.93534127,\n",
       "       101.58513941, 102.23501868, 102.88497907, 103.53502058,\n",
       "       104.18514321, 104.83534697, 105.48563185, 106.13599785,\n",
       "       106.78644498, 107.43697323, 108.08758261, 108.7382731 ,\n",
       "       109.38904472, 110.03989747, 110.69083134, 111.34184633,\n",
       "       111.99294244, 112.64411968, 113.29537805, 113.94671753,\n",
       "       114.59813814, 115.24963987, 115.90122273, 116.55288671,\n",
       "       117.20463181, 117.85645804, 118.50836539, 119.16035386,\n",
       "       119.81242346, 120.46457418, 121.11680602, 121.76911899,\n",
       "       122.42151308, 123.07398829, 123.72654463, 124.37918209,\n",
       "       125.03190067, 125.68470038, 126.33758121, 126.99054316,\n",
       "       127.64358624, 128.29671044, 128.94991577, 129.60320222,\n",
       "       130.25656979, 130.91001848, 131.5635483 , 132.21715924,\n",
       "       132.87085131, 133.5246245 , 134.17847881, 134.83241425,\n",
       "       135.4864308 , 136.14052849, 136.79470729, 137.44896722,\n",
       "       138.10330828, 138.75773045, 139.41223375, 140.06681817,\n",
       "       140.72148372, 141.37623039, 142.03105818, 142.6859671 ,\n",
       "       143.34095714, 143.99602831, 144.65118059, 145.306414  ,\n",
       "       145.96172854, 146.6171242 , 147.27260098, 147.92815888,\n",
       "       148.58379791, 149.23951806, 149.89531934, 150.55120173,\n",
       "       151.20716526, 151.8632099 , 152.51933567, 153.17554256,\n",
       "       153.83183058, 154.48819972, 155.14464998, 155.80118136,\n",
       "       156.45779387, 157.11448751, 157.77126226, 158.42811814,\n",
       "       159.08505514, 159.74207327, 160.39917252, 161.05635289,\n",
       "       161.71361439, 162.37095701, 163.02838076, 163.68588562,\n",
       "       164.34347161, 165.00113873, 165.65888696, 166.31671633,\n",
       "       166.97462681, 167.63261842, 168.29069115, 168.948845  ,\n",
       "       169.60707998, 170.26539608, 170.92379331, 171.58227166,\n",
       "       172.24083113, 172.89947172, 173.55819344, 174.21699628,\n",
       "       174.87588025, 175.53484534, 176.19389155, 176.85301889,\n",
       "       177.51222735, 178.17151693, 178.83088764, 179.49033947,\n",
       "       180.14987242, 180.8094865 , 181.4691817 , 182.12895802,\n",
       "       182.78881547, 183.44875404, 184.10877373, 184.76887455,\n",
       "       185.42905649, 186.08931955, 186.74966374, 187.41008905])"
      ]
     },
     "execution_count": 23,
     "metadata": {},
     "output_type": "execute_result"
    }
   ],
   "source": [
    "bins"
   ]
  },
  {
   "cell_type": "code",
   "execution_count": null,
   "id": "51e25c67",
   "metadata": {},
   "outputs": [],
   "source": []
  }
 ],
 "metadata": {
  "kernelspec": {
   "display_name": "Python 3 (ipykernel)",
   "language": "python",
   "name": "python3"
  },
  "language_info": {
   "codemirror_mode": {
    "name": "ipython",
    "version": 3
   },
   "file_extension": ".py",
   "mimetype": "text/x-python",
   "name": "python",
   "nbconvert_exporter": "python",
   "pygments_lexer": "ipython3",
   "version": "3.9.7"
  }
 },
 "nbformat": 4,
 "nbformat_minor": 5
}
